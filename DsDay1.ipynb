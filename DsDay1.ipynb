{
 "cells": [
  {
   "cell_type": "code",
   "execution_count": 9,
   "id": "e38cfa24-e235-4f1b-8375-db110cfac796",
   "metadata": {},
   "outputs": [
    {
     "name": "stdout",
     "output_type": "stream",
     "text": [
      "[[7.5 7.5 7.5]\n",
      " [7.5 7.5 7.5]\n",
      " [7.5 7.5 7.5]\n",
      " [7.5 7.5 7.5]]\n"
     ]
    }
   ],
   "source": [
    "import numpy as np\n",
    "arr_a = np.arange(10,51,10)\n",
    "arr_b = np.arange(0, 101, 5)\n",
    "arr_c = np.full([4,3], 7.5)\n",
    "print(arr_c)"
   ]
  },
  {
   "cell_type": "code",
   "execution_count": 19,
   "id": "e3e636f5-9ef6-4a4c-8f0e-4b3276f41cd4",
   "metadata": {},
   "outputs": [],
   "source": [
    "set1_a = np.full([2,5], 0)\n",
    "set1_b = np.multiply(np.ones([3,3],dtype=np.int16),3)\n",
    "set1_c = np.linspace(1,5,15)\n",
    "set1_c_reshaped = set1_c.reshape(5,3)\n",
    "a = np.full([2,2], 5)\n",
    "b = np.full([2,2], 3)\n",
    "a_plus_b = np.add(a,b)"
   ]
  },
  {
   "cell_type": "code",
   "execution_count": 49,
   "id": "0e6df773-c6a1-4406-b4a9-1f564778875f",
   "metadata": {},
   "outputs": [
    {
     "name": "stdout",
     "output_type": "stream",
     "text": [
      "(2, 4) float32\n"
     ]
    }
   ],
   "source": [
    "set2_a = np.arange(1, 26, 2)\n",
    "set2_b = np.full([2, 4,], 4.0, dtype=np.float32)\n",
    "print(set2_b.shape, set2_b.dtype)\n",
    "set2_b_reshaped = set2_b.reshape(1,8)\n",
    "set2_b_transposed = np.transpose(set2_b)\n",
    "M = np.array([(1,2), (3,4)])\n",
    "M = np.multiply(M, 10)"
   ]
  },
  {
   "cell_type": "code",
   "execution_count": 37,
   "id": "5f573c06-4b77-422c-b98f-b86fffd81abd",
   "metadata": {},
   "outputs": [
    {
     "name": "stdout",
     "output_type": "stream",
     "text": [
      "[0 0 0 0 0 0 0 0 0 1]\n"
     ]
    },
    {
     "data": {
      "text/plain": [
       "array([[0.        , 0.11111111],\n",
       "       [0.22222222, 0.33333333],\n",
       "       [0.44444444, 0.55555556],\n",
       "       [0.66666667, 0.77777778],\n",
       "       [0.88888889, 1.        ]])"
      ]
     },
     "execution_count": 37,
     "metadata": {},
     "output_type": "execute_result"
    }
   ],
   "source": [
    "set3_a = np.linspace(0, 1, 10)\n",
    "set3_a_int32 = np.int32(np.linspace(0, 1, 10))\n",
    "print(set3_a_int32)\n",
    "np.empty((5,2))"
   ]
  },
  {
   "cell_type": "code",
   "execution_count": 38,
   "id": "f9226d0b-af8d-46b5-8c77-c2578003736a",
   "metadata": {},
   "outputs": [
    {
     "name": "stdout",
     "output_type": "stream",
     "text": [
      "[[15. 15. 15.]\n",
      " [15. 15. 15.]]\n"
     ]
    }
   ],
   "source": [
    "m1 = np.full([2,3], 6.0)\n",
    "m1_multiplied = np.multiply(m1, 2.5)\n",
    "print(m1_multiplied)"
   ]
  },
  {
   "cell_type": "code",
   "execution_count": 55,
   "id": "0b8881a2-e4ce-4b92-90b7-cecc20fb7471",
   "metadata": {},
   "outputs": [
    {
     "name": "stdout",
     "output_type": "stream",
     "text": [
      "[5 6 7]\n"
     ]
    }
   ],
   "source": [
    "set3_c = np.arange(1,11, 1)\n",
    "measured_set3_c = (set3_c > 4) & (set3_c < 8)\n",
    "print(set3_c[(set3_c > 4) & (set3_c < 8)])"
   ]
  },
  {
   "cell_type": "code",
   "execution_count": 57,
   "id": "8e755490-4c9b-4e4a-b23c-20476379f8e7",
   "metadata": {},
   "outputs": [
    {
     "name": "stdout",
     "output_type": "stream",
     "text": [
      "[ 5 12 21 32]\n"
     ]
    }
   ],
   "source": [
    "v1 = np.arange(1, 5)\n",
    "v2 = np.arange(5, 9)\n",
    "el_wise_mult = np.multiply(v1, v2)\n",
    "print(el_wise_mult)"
   ]
  },
  {
   "cell_type": "code",
   "execution_count": null,
   "id": "3e8b41cd-d76a-43d4-a8a9-0c8f7377d2c3",
   "metadata": {},
   "outputs": [],
   "source": []
  }
 ],
 "metadata": {
  "kernelspec": {
   "display_name": "R2DS-P1 Venv for JL",
   "language": "python",
   "name": "r2ds-p1"
  },
  "language_info": {
   "codemirror_mode": {
    "name": "ipython",
    "version": 3
   },
   "file_extension": ".py",
   "mimetype": "text/x-python",
   "name": "python",
   "nbconvert_exporter": "python",
   "pygments_lexer": "ipython3",
   "version": "3.11.4"
  }
 },
 "nbformat": 4,
 "nbformat_minor": 5
}
