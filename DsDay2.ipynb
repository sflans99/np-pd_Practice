{
 "cells": [
  {
   "cell_type": "code",
   "execution_count": 18,
   "id": "472ad196-c0a7-4c0a-96ad-952e793b3331",
   "metadata": {},
   "outputs": [],
   "source": [
    "import numpy as np\n",
    "array_a = np.arange(1, 17, 1).reshape(4, 4)\n",
    "sliced_a = array_a[2:4, 2:4]\n",
    "array_a[array_a % 3 == 0]\n",
    "ar_b = np.ones((3, 2), dtype=int)\n",
    "ar_c = np.ones((2, 3), dtype=int)\n",
    "dot_product = ar_b.dot(ar_c)\n",
    "ar_d = np.array([2, 4, 8, 16])\n",
    "logs = np.log(ar_d)"
   ]
  },
  {
   "cell_type": "code",
   "execution_count": null,
   "id": "18d6a6f0-f188-4e07-ae78-187c86beeeee",
   "metadata": {},
   "outputs": [],
   "source": []
  }
 ],
 "metadata": {
  "kernelspec": {
   "display_name": "Road to Data Science Day 2",
   "language": "python",
   "name": "rsd2-d2"
  },
  "language_info": {
   "codemirror_mode": {
    "name": "ipython",
    "version": 3
   },
   "file_extension": ".py",
   "mimetype": "text/x-python",
   "name": "python",
   "nbconvert_exporter": "python",
   "pygments_lexer": "ipython3",
   "version": "3.11.4"
  }
 },
 "nbformat": 4,
 "nbformat_minor": 5
}
